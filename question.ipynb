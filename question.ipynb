{
 "cells": [
  {
   "cell_type": "code",
   "execution_count": 15,
   "metadata": {},
   "outputs": [],
   "source": [
    "import pymongo\n",
    "from pymongo import MongoClient\n",
    "import os\n",
    "\n",
    "ATLAS_KEY = os.getenv(\"ATLAS_KEY\")\n",
    "client = MongoClient(ATLAS_KEY)\n",
    "db = client[\"movies_db\"]\n",
    "collection = db[\"top_movies\"]"
   ]
  },
  {
   "cell_type": "code",
   "execution_count": 22,
   "metadata": {},
   "outputs": [
    {
     "name": "stdout",
     "output_type": "stream",
     "text": [
      "Gone with the Wind 238\n"
     ]
    }
   ],
   "source": [
    "longest_movie = collection.find().sort(\"time\", pymongo.DESCENDING).limit(1)\n",
    "for movie in longest_movie:\n",
    "    print(movie[\"title\"], movie[\"time\"])"
   ]
  }
 ],
 "metadata": {
  "kernelspec": {
   "display_name": "scrapping",
   "language": "python",
   "name": "python3"
  },
  "language_info": {
   "codemirror_mode": {
    "name": "ipython",
    "version": 3
   },
   "file_extension": ".py",
   "mimetype": "text/x-python",
   "name": "python",
   "nbconvert_exporter": "python",
   "pygments_lexer": "ipython3",
   "version": "3.11.3"
  },
  "orig_nbformat": 4
 },
 "nbformat": 4,
 "nbformat_minor": 2
}
