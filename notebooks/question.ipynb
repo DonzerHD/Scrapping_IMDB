{
 "cells": [
  {
   "cell_type": "code",
   "execution_count": 51,
   "metadata": {},
   "outputs": [],
   "source": [
    "import pymongo\n",
    "from pymongo import MongoClient\n",
    "import os\n",
    "\n",
    "ATLAS_KEY = os.getenv(\"ATLAS_KEY\")\n",
    "client = MongoClient(ATLAS_KEY)\n",
    "db = client[\"movies_db\"]\n",
    "collection = db[\"top_movies\"]\n",
    "collection_series = db[\"top_series\"]"
   ]
  },
  {
   "attachments": {},
   "cell_type": "markdown",
   "metadata": {},
   "source": [
    "#### 1. Quel est le film le plus long ?"
   ]
  },
  {
   "cell_type": "code",
   "execution_count": 52,
   "metadata": {},
   "outputs": [
    {
     "name": "stdout",
     "output_type": "stream",
     "text": [
      "Le film le plus long est 'Gone with the Wind' avec une durée de 238 minutes.\n"
     ]
    }
   ],
   "source": [
    "longest_movie = collection.find().sort(\"time\", pymongo.DESCENDING).limit(1)\n",
    "for movie in longest_movie:\n",
    "    print(f\"Le film le plus long est '{movie['title']}' avec une durée de {movie['time']} minutes.\") # Autant Emporte le Vent\n"
   ]
  },
  {
   "attachments": {},
   "cell_type": "markdown",
   "metadata": {},
   "source": [
    "#### 2. Quels sont les 5 films les mieux notés ?"
   ]
  },
  {
   "cell_type": "code",
   "execution_count": 53,
   "metadata": {},
   "outputs": [
    {
     "name": "stdout",
     "output_type": "stream",
     "text": [
      "Les 5 films les mieux notés en fonction du score sont :\n",
      "The Shawshank Redemption (Score : 9.3)\n",
      "The Godfather (Score : 9.2)\n",
      "The Lord of the Rings: The Return of the King (Score : 9.0)\n",
      "The Godfather Part II (Score : 9.0)\n",
      "The Dark Knight (Score : 9.0)\n"
     ]
    }
   ],
   "source": [
    "top_movies = collection.find(sort=[(\"score\", pymongo.DESCENDING)]).limit(5)\n",
    "print(\"Les 5 films les mieux notés en fonction du score sont :\")\n",
    "for movie in top_movies:\n",
    "    print(f\"{movie['title']} (Score : {movie['score']})\")"
   ]
  },
  {
   "attachments": {},
   "cell_type": "markdown",
   "metadata": {},
   "source": [
    "#### 3. Dans combien de films a joué Morgan Freeman ? Tom Cruise ?"
   ]
  },
  {
   "cell_type": "code",
   "execution_count": 54,
   "metadata": {},
   "outputs": [
    {
     "name": "stdout",
     "output_type": "stream",
     "text": [
      "Morgan Freeman a joué dans 4 films.\n",
      "Tom Cruise a joué dans 1 films.\n"
     ]
    }
   ],
   "source": [
    "morgan_freeman_count = collection.count_documents({\"actor\": \"Morgan Freeman\"})\n",
    "tom_cruise_count = collection.count_documents({\"actor\": \"Tom Cruise\"})\n",
    "print(f\"Morgan Freeman a joué dans {morgan_freeman_count} films.\")\n",
    "print(f\"Tom Cruise a joué dans {tom_cruise_count} films.\")\n"
   ]
  },
  {
   "attachments": {},
   "cell_type": "markdown",
   "metadata": {},
   "source": [
    "#### 4. Quels sont les 3 meilleurs films d’horreur ? Dramatique ? Comique ?"
   ]
  },
  {
   "cell_type": "code",
   "execution_count": 55,
   "metadata": {},
   "outputs": [
    {
     "name": "stdout",
     "output_type": "stream",
     "text": [
      "Les 3 meilleurs films Horror sont :\n",
      "Psycho (Note : 8.5)\n",
      "Alien (Note : 8.5)\n",
      "The Shining (Note : 8.4)\n",
      "Les 3 meilleurs films Drama sont :\n",
      "The Shawshank Redemption (Note : 9.3)\n",
      "The Godfather (Note : 9.2)\n",
      "The Dark Knight (Note : 9.0)\n",
      "Les 3 meilleurs films Comedy sont :\n",
      "Life Is Beautiful (Note : 8.6)\n",
      "The Intouchables (Note : 8.5)\n",
      "Modern Times (Note : 8.5)\n"
     ]
    }
   ],
   "source": [
    "# Quels sont les 3 meilleurs films d'horreur ? Dramatique ? Comique ?\n",
    "genres = [\"Horror\", \"Drama\", \"Comedy\"]\n",
    "for genre in genres:\n",
    "    top_genre_movies = collection.find({\"genre\": genre}, sort=[(\"score\", pymongo.DESCENDING)]).limit(3)\n",
    "    print(f\"Les 3 meilleurs films {genre} sont :\")\n",
    "    for movie in top_genre_movies:\n",
    "        print(f\"{movie['title']} (Note : {movie['score']})\")"
   ]
  },
  {
   "attachments": {},
   "cell_type": "markdown",
   "metadata": {},
   "source": [
    "#### 5. Parmi les 100 films les mieux notés, quel pourcentage sont américains ? Français ?"
   ]
  },
  {
   "cell_type": "code",
   "execution_count": 56,
   "metadata": {},
   "outputs": [
    {
     "name": "stdout",
     "output_type": "stream",
     "text": [
      "Parmi les 100 films les mieux notés, 76.0% sont américains et 9.0% sont français.\n"
     ]
    }
   ],
   "source": [
    "top_100_movies = collection.find(sort=[(\"rating\", pymongo.DESCENDING)]).limit(100)\n",
    "top_100_movies_list = list(top_100_movies)\n",
    "\n",
    "us_count = sum(1 for movie in top_100_movies_list if \"United States\" in movie[\"country\"])\n",
    "fr_count = sum(1 for movie in top_100_movies_list if \"France\" in movie[\"country\"])\n",
    "\n",
    "us_percentage = us_count / 100 * 100\n",
    "fr_percentage = fr_count / 100 * 100\n",
    "print(f\"Parmi les 100 films les mieux notés, {us_percentage}% sont américains et {fr_percentage}% sont français.\")"
   ]
  },
  {
   "attachments": {},
   "cell_type": "markdown",
   "metadata": {},
   "source": [
    "#### 6. Quel est la durée moyenne d’un film en fonction du genre ?"
   ]
  },
  {
   "cell_type": "code",
   "execution_count": 57,
   "metadata": {},
   "outputs": [
    {
     "name": "stdout",
     "output_type": "stream",
     "text": [
      "La durée moyenne d'un film en fonction du genre :\n",
      "Action: 134 minutes\n",
      "Adventure: 130 minutes\n",
      "Animation: 101 minutes\n",
      "Biography: 146 minutes\n",
      "Comedy: 106 minutes\n",
      "Crime: 132 minutes\n",
      "Drama: 135 minutes\n",
      "Family: 115 minutes\n",
      "Fantasy: 124 minutes\n",
      "Film-Noir: 110 minutes\n",
      "History: 152 minutes\n",
      "Horror: 121 minutes\n",
      "Music: 134 minutes\n",
      "Musical: 103 minutes\n",
      "Mystery: 125 minutes\n",
      "Romance: 118 minutes\n",
      "Sci-Fi: 132 minutes\n",
      "Sport: 128 minutes\n",
      "Thriller: 124 minutes\n",
      "War: 140 minutes\n",
      "Western: 154 minutes\n"
     ]
    }
   ],
   "source": [
    "unique_genres = collection.distinct(\"genre\")\n",
    "\n",
    "genre_duration = {}\n",
    "for genre in unique_genres:\n",
    "    genre_movies = collection.find({\"genre\": genre})\n",
    "    total_duration = sum(movie[\"time\"] for movie in genre_movies)\n",
    "    average_duration = total_duration / collection.count_documents({\"genre\": genre})\n",
    "    genre_duration[genre] = average_duration\n",
    "\n",
    "print(\"La durée moyenne d'un film en fonction du genre :\")\n",
    "for genre, avg_duration in genre_duration.items():\n",
    "    print(f\"{genre}: {avg_duration:.0f} minutes\")"
   ]
  },
  {
   "attachments": {},
   "cell_type": "markdown",
   "metadata": {},
   "source": [
    "#### 7. En fonction du genre, afficher la liste des films les plus longs."
   ]
  },
  {
   "cell_type": "code",
   "execution_count": 58,
   "metadata": {},
   "outputs": [
    {
     "name": "stdout",
     "output_type": "stream",
     "text": [
      "Les films les plus longs en fonction du genre :\n",
      "Action: Seven Samurai (207 minutes)\n",
      "Adventure: Lawrence of Arabia (218 minutes)\n",
      "Animation: Princess Mononoke (134 minutes)\n",
      "Biography: Lawrence of Arabia (218 minutes)\n",
      "Comedy: The Wolf of Wall Street (180 minutes)\n",
      "Crime: Once Upon a Time in America (229 minutes)\n",
      "Drama: Gone with the Wind (238 minutes)\n",
      "Family: The Sound of Music (172 minutes)\n",
      "Fantasy: The Green Mile (189 minutes)\n",
      "Film-Noir: Rebecca (130 minutes)\n",
      "History: Schindler's List (195 minutes)\n",
      "Horror: The Shining (146 minutes)\n",
      "Music: Amadeus (160 minutes)\n",
      "Musical: Singin' in the Rain (103 minutes)\n",
      "Mystery: Jai Bhim (164 minutes)\n",
      "Romance: Gone with the Wind (238 minutes)\n",
      "Sci-Fi: Interstellar (169 minutes)\n",
      "Sport: Dangal (161 minutes)\n",
      "Thriller: John Wick: Chapter 4 (169 minutes)\n",
      "War: Gone with the Wind (238 minutes)\n",
      "Western: Dances with Wolves (181 minutes)\n"
     ]
    }
   ],
   "source": [
    "# Récupérer la liste unique des genres\n",
    "unique_genres = collection.distinct(\"genre\")\n",
    "\n",
    "# Pour chaque genre, trouvez le film avec la durée la plus longue\n",
    "longest_movies = {}\n",
    "for genre in unique_genres:\n",
    "    longest_movie = collection.find_one({\"genre\": genre}, sort=[(\"time\", pymongo.DESCENDING)])\n",
    "    longest_movies[genre] = longest_movie\n",
    "\n",
    "# Afficher le titre et la durée du film le plus long pour chaque genre\n",
    "print(\"Les films les plus longs en fonction du genre :\")\n",
    "for genre, movie in longest_movies.items():\n",
    "    print(f\"{genre}: {movie['title']} ({movie['time']} minutes)\")"
   ]
  },
  {
   "attachments": {},
   "cell_type": "markdown",
   "metadata": {},
   "source": [
    "#### 8. En fonction du genre, quel est le coût de tournage d’une minute de film ?"
   ]
  },
  {
   "attachments": {},
   "cell_type": "markdown",
   "metadata": {},
   "source": [
    "#### 9. Quels sont les séries les mieux notés ?"
   ]
  },
  {
   "cell_type": "code",
   "execution_count": 64,
   "metadata": {},
   "outputs": [
    {
     "name": "stdout",
     "output_type": "stream",
     "text": [
      "Les 5 séries les mieux notées sont :\n",
      "Bluey (Note : 9.5)\n",
      "Breaking Bad (Note : 9.5)\n",
      "Planet Earth II (Note : 9.5)\n",
      "Band of Brothers (Note : 9.4)\n",
      "Chernobyl (Note : 9.4)\n"
     ]
    }
   ],
   "source": [
    "top_series = collection_series.find(sort=[(\"score\", pymongo.DESCENDING)]).limit(5)\n",
    "\n",
    "# Afficher les 5 séries les mieux notées\n",
    "print(\"Les 5 séries les mieux notées sont :\")\n",
    "for serie in top_series:\n",
    "    print(f\"{serie['title']} (Note : {serie['score']})\")"
   ]
  }
 ],
 "metadata": {
  "kernelspec": {
   "display_name": "scrapping",
   "language": "python",
   "name": "python3"
  },
  "language_info": {
   "codemirror_mode": {
    "name": "ipython",
    "version": 3
   },
   "file_extension": ".py",
   "mimetype": "text/x-python",
   "name": "python",
   "nbconvert_exporter": "python",
   "pygments_lexer": "ipython3",
   "version": "3.11.3"
  },
  "orig_nbformat": 4
 },
 "nbformat": 4,
 "nbformat_minor": 2
}
